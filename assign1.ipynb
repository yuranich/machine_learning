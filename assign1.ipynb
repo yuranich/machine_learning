{
 "cells": [
  {
   "cell_type": "code",
   "execution_count": 2,
   "metadata": {
    "collapsed": false
   },
   "outputs": [
    {
     "name": "stdout",
     "output_type": "stream",
     "text": [
      "male      577\n",
      "female    314\n",
      "dtype: int64\n"
     ]
    }
   ],
   "source": [
    "import pandas\n",
    "data = pandas.read_csv('titanic.csv', index_col='PassengerId')\n",
    "\n",
    "print(data['Sex'].value_counts())"
   ]
  },
  {
   "cell_type": "code",
   "execution_count": 3,
   "metadata": {
    "collapsed": false
   },
   "outputs": [
    {
     "name": "stdout",
     "output_type": "stream",
     "text": [
      "0    549\n",
      "1    342\n",
      "dtype: int64\n"
     ]
    }
   ],
   "source": [
    "print(data['Survived'].value_counts())"
   ]
  },
  {
   "cell_type": "code",
   "execution_count": 8,
   "metadata": {
    "collapsed": false
   },
   "outputs": [
    {
     "name": "stdout",
     "output_type": "stream",
     "text": [
      "38.3838383838\n"
     ]
    }
   ],
   "source": [
    "survived = data['Survived'].value_counts()\n",
    "surv_count = survived[1] / (len(data.index)) * 100\n",
    "\n",
    "print(surv_count)"
   ]
  },
  {
   "cell_type": "code",
   "execution_count": 5,
   "metadata": {
    "collapsed": false
   },
   "outputs": [
    {
     "name": "stdout",
     "output_type": "stream",
     "text": [
      "3    491\n",
      "1    216\n",
      "2    184\n",
      "dtype: int64\n"
     ]
    }
   ],
   "source": [
    "print(data['Pclass'].value_counts())"
   ]
  },
  {
   "cell_type": "code",
   "execution_count": 6,
   "metadata": {
    "collapsed": false
   },
   "outputs": [
    {
     "name": "stdout",
     "output_type": "stream",
     "text": [
      "24.2424242424\n"
     ]
    }
   ],
   "source": [
    "classes = data['Pclass'].value_counts()\n",
    "print (classes[1] / len(data.index) * 100)"
   ]
  },
  {
   "cell_type": "code",
   "execution_count": 7,
   "metadata": {
    "collapsed": false
   },
   "outputs": [
    {
     "name": "stdout",
     "output_type": "stream",
     "text": [
      "29.69911764705882\n",
      "28.0\n"
     ]
    }
   ],
   "source": [
    "print(data['Age'].mean())\n",
    "print(data['Age'].median())"
   ]
  },
  {
   "cell_type": "code",
   "execution_count": 9,
   "metadata": {
    "collapsed": false
   },
   "outputs": [
    {
     "data": {
      "text/plain": [
       "0.41483769862015263"
      ]
     },
     "execution_count": 9,
     "metadata": {},
     "output_type": "execute_result"
    }
   ],
   "source": [
    "data.corr(method='pearson')['SibSp']['Parch']"
   ]
  },
  {
   "cell_type": "code",
   "execution_count": 16,
   "metadata": {
    "collapsed": false
   },
   "outputs": [
    {
     "name": "stdout",
     "output_type": "stream",
     "text": [
      "['William', 'Mary', 'Anna', 'Elizabeth', 'Thomas', 'Margaret', 'John', 'Alice', 'Frederick', 'Edward', 'Ellen', 'Helen', 'James', 'Bertha', 'Katherine', 'Kate', 'Hanora', 'Annie', 'Catherine', 'Joseph', 'Charles', 'Amelia', 'Augusta', 'Marion', 'Samuel', 'Henry', 'George', 'Emily', 'Mabel', 'Hedwig', 'Sidney', 'Ida', 'Marija', 'Frank', 'Constance', 'Elsie', 'Madeleine', 'Marie', 'Lillian', 'Jean', 'Albert', 'Marjorie', 'Susan', 'Bridget', 'Alexander', 'Lizzie', 'Ellis', 'Daisy', 'Nicholas', 'Edith', 'Ruth', 'Countess.', 'Lucile', 'Delia', 'Kristina', 'Katie', 'Agda', 'Maria', 'Aurora', 'Harvey', 'Rosa', 'Ann', 'Elisabeth', 'Joan', 'Caroline', 'Martin', 'Encarnacion', 'Agnes', 'Leopold', 'Antoni', 'Marguerite', 'Stella', 'Mantoura', 'Julie', 'Eleanor', 'Norman', 'Stina', 'Juha', 'Ernst', 'Erna', 'Eliina', 'Anders', 'Malake', 'Elina', 'Manca', 'Doolina', 'Elmer', 'Beila', 'Sam', 'Luise', 'Clear', 'Eugenie', 'Thamine', 'Harriet', 'Guillaume', 'Dickinson', 'Mari', 'Elise', 'Carl', 'Brigdet', 'Louis', 'Pieta', 'Robina', 'Jamila', 'Torborg', 'Lutie', 'Matilda', 'Josef', 'Berthe', 'Percival', 'Helmina', 'Florence', 'Virginia', 'Hildur', 'Edwy', 'Georgette', 'Amy', 'Ada', 'Viktor', 'Darwis', 'Benjamin', 'Hjalmar', 'Mara', 'Julius', 'Saiide', 'Ernest', 'Banoura', 'Aloisia', 'Oscar', 'Hulda', 'Laura', 'Amin', 'Roberta', 'Albina', 'Ethel', 'Sara', 'Laina', 'Richard', 'Gladys', 'Anne', 'Gertrude', 'Edgar', 'Stanton', 'Kornelia', 'Nils', 'Peter', 'Eva', 'Ebba', 'Sinai', 'Victor', 'Carla', 'Hilda', 'Walter', 'Sigrid', 'Simonne', 'Gretchen', 'Jessie', 'Margareth', 'Rosalie', 'Lucy', 'Hileni', 'Dorothy', 'Frederic', 'Amelie', 'Velin', 'Asuncion', 'Hudson', 'Solomon', 'Wendla', 'Catharina', 'Pekka', 'Fatima', 'Phyllis', 'Margit', 'Karolina', 'Lyyli', 'Emma', 'Katriina', 'Nourelain', 'Edwina', 'Adele', 'Johan', 'Emil', 'Helene', 'Henriette', 'Jacques', 'Karl', 'Mathilde', 'Ingeborg', 'Gerda', 'Telma', 'Wilhelm', 'Nora', 'Jeannie', 'Leontine', 'Lucille']\n"
     ]
    }
   ],
   "source": [
    "secNames = []\n",
    "for row in data.iterrows():\n",
    "    if row[1]['Sex'] == 'female':\n",
    "        secNames.append(row[1]['Name'].split(', ')[1].split(' ')[1].strip('()'))\n",
    "        \n",
    "#print(secNames)\n",
    "\n",
    "name_dict = {}\n",
    "for name in secNames:\n",
    "    if name_dict.get(name) == None:\n",
    "        name_dict[name] = 1\n",
    "    else:\n",
    "        name_dict[name] += 1\n",
    "    \n",
    "sorted_dict = sorted(name_dict, key=name_dict.get, reverse=True)\n",
    "print(sorted_dict)"
   ]
  }
 ],
 "metadata": {
  "kernelspec": {
   "display_name": "Python 3",
   "language": "python",
   "name": "python3"
  },
  "language_info": {
   "codemirror_mode": {
    "name": "ipython",
    "version": 3
   },
   "file_extension": ".py",
   "mimetype": "text/x-python",
   "name": "python",
   "nbconvert_exporter": "python",
   "pygments_lexer": "ipython3",
   "version": "3.4.3"
  }
 },
 "nbformat": 4,
 "nbformat_minor": 0
}
