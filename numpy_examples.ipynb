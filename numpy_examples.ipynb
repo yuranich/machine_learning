{
 "cells": [
  {
   "cell_type": "markdown",
   "metadata": {},
   "source": [
    "/**\n",
    " * Example usage of numpy library.\n",
    " * Generating, normalizing, filtering and stacking matrix.\n",
    " *"
   ]
  },
  {
   "cell_type": "code",
   "execution_count": 4,
   "metadata": {
    "collapsed": false
   },
   "outputs": [
    {
     "name": "stdout",
     "output_type": "stream",
     "text": [
      "[[  2.38994738  -9.87853891   6.95218321 ..., -12.83911918  27.83506339\n",
      "  -21.77459246]\n",
      " [-11.07093994 -11.94294695  18.77568187 ...,  -7.52952477  -1.72648355\n",
      "   -3.05705055]\n",
      " [ -1.91804939 -12.01522934  10.66305041 ...,   6.38057349   2.52195525\n",
      "   -5.85156692]\n",
      " ..., \n",
      " [ -2.57891554   2.39420165  -1.09950259 ...,  -0.53632421  -9.81827677\n",
      "   -9.58166447]\n",
      " [ -9.55393844  -1.9421095    9.69739554 ...,  -6.898125    17.88044798\n",
      "    2.71299891]\n",
      " [  9.85609898   2.8262623  -18.97920417 ...,   3.9720101   -9.35723691\n",
      "   -4.84409833]]\n"
     ]
    }
   ],
   "source": [
    "import numpy as np\n",
    "X = np.random.normal(loc=1, scale=10, size=(1000, 50))\n",
    "print(X)"
   ]
  },
  {
   "cell_type": "code",
   "execution_count": 5,
   "metadata": {
    "collapsed": false
   },
   "outputs": [
    {
     "name": "stdout",
     "output_type": "stream",
     "text": [
      "[[ 0.17221423 -0.9991891   0.62342277 ..., -1.39037616  2.79935071\n",
      "  -2.34206756]\n",
      " [-1.15905153 -1.20404144  1.77361487 ..., -0.85990014 -0.25506412\n",
      "  -0.45301675]\n",
      " [-0.25384153 -1.21121406  0.98441661 ...,  0.52984324  0.18390122\n",
      "  -0.73505076]\n",
      " ..., \n",
      " [-0.31920041  0.21864164 -0.15984669 ..., -0.16121678 -1.09113989\n",
      "  -1.11150744]\n",
      " [-1.00902188 -0.21165288  0.89047752 ..., -0.79681764  1.77080085\n",
      "   0.12932022]\n",
      " [ 0.91060775  0.26151526 -1.8991873  ...,  0.28920619 -1.04350345\n",
      "  -0.63337291]]\n"
     ]
    }
   ],
   "source": [
    "m = np.mean(X, axis=0)\n",
    "std = np.std(X, axis=0)\n",
    "X_norm = ((X - m)  / std)\n",
    "print(X_norm)"
   ]
  },
  {
   "cell_type": "code",
   "execution_count": 6,
   "metadata": {
    "collapsed": false
   },
   "outputs": [
    {
     "name": "stdout",
     "output_type": "stream",
     "text": [
      "(array([1, 4, 5], dtype=int64),)\n"
     ]
    }
   ],
   "source": [
    "Z = np.array([[4, 5, 0], \n",
    "             [1, 9, 3],              \n",
    "             [5, 1, 1],\n",
    "             [3, 3, 3], \n",
    "             [9, 9, 9], \n",
    "             [4, 7, 1]])\n",
    "\n",
    "r = np.sum(Z, axis=1)\n",
    "print(np.nonzero(r > 10))"
   ]
  },
  {
   "cell_type": "code",
   "execution_count": 8,
   "metadata": {
    "collapsed": false
   },
   "outputs": [
    {
     "name": "stdout",
     "output_type": "stream",
     "text": [
      "[[ 1.  0.  0.]\n",
      " [ 0.  1.  0.]\n",
      " [ 0.  0.  1.]]\n",
      "[[ 1.  0.  0.]\n",
      " [ 0.  1.  0.]\n",
      " [ 0.  0.  1.]]\n",
      "[[ 1.  0.  0.]\n",
      " [ 0.  1.  0.]\n",
      " [ 0.  0.  1.]\n",
      " [ 1.  0.  0.]\n",
      " [ 0.  1.  0.]\n",
      " [ 0.  0.  1.]]\n"
     ]
    }
   ],
   "source": [
    "A = np.eye(3)\n",
    "B = np.eye(3)\n",
    "print(A)\n",
    "print(B)\n",
    "\n",
    "AB = np.vstack((A, B))\n",
    "print(AB)"
   ]
  }
 ],
 "metadata": {
  "kernelspec": {
   "display_name": "Python 3",
   "language": "python",
   "name": "python3"
  },
  "language_info": {
   "codemirror_mode": {
    "name": "ipython",
    "version": 3
   },
   "file_extension": ".py",
   "mimetype": "text/x-python",
   "name": "python",
   "nbconvert_exporter": "python",
   "pygments_lexer": "ipython3",
   "version": "3.4.3"
  }
 },
 "nbformat": 4,
 "nbformat_minor": 0
}
